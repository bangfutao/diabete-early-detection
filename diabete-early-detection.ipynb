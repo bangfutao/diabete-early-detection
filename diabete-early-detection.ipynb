{
 "cells": [
  {
   "cell_type": "code",
   "execution_count": 2,
   "metadata": {
    "scrolled": true
   },
   "outputs": [],
   "source": [
    "#============================================================================================\n",
    "# Compare Algorithms to determine which algorithms should be tuned\n",
    "# dataset file: diabetes_data_upload.csv\n",
    "# URL: https://archive.ics.uci.edu/ml/datasets/Early+stage+diabetes+risk+prediction+dataset\n",
    "# https://github.com/BayesWitnesses/m2cgen to convert model to Python, Java and C\n",
    "#============================================================================================\n",
    "import time\n",
    "import pandas as pd\n",
    "import numpy as np\n",
    "import matplotlib.pyplot as plt\n",
    "\n",
    "from sklearn import model_selection\n",
    "\n",
    "# Classifier list\n",
    "from sklearn.ensemble import AdaBoostClassifier\n",
    "from sklearn.tree import DecisionTreeClassifier\n",
    "from sklearn.neighbors import KNeighborsClassifier\n",
    "from sklearn.linear_model import LogisticRegression\n",
    "from sklearn.neural_network import MLPClassifier\n",
    "from sklearn.ensemble import RandomForestClassifier\n",
    "from sklearn.linear_model import SGDClassifier\n",
    "from sklearn.svm import SVC\n",
    "\n",
    "from sklearn.discriminant_analysis import LinearDiscriminantAnalysis\n",
    "from sklearn.naive_bayes import GaussianNB\n",
    "from sklearn.naive_bayes import MultinomialNB\n",
    "from sklearn.naive_bayes import BernoulliNB\n",
    "\n",
    "from sklearn import ensemble\n",
    "from sklearn.preprocessing import MinMaxScaler\n",
    "from sklearn import preprocessing\n",
    "from sklearn.model_selection import train_test_split, GridSearchCV\n",
    "from sklearn.preprocessing import LabelEncoder\n",
    "\n",
    "from sklearn.preprocessing import OneHotEncoder\n",
    "from sklearn.preprocessing import StandardScaler\n",
    "from sklearn.preprocessing import LabelEncoder\n",
    "from sklearn.compose import ColumnTransformer\n",
    "from sklearn.pipeline import Pipeline\n",
    "\n",
    "#--------------------------------------------------------------------------------------------------\n",
    "class MultiColumnLabelEncoder:\n",
    "    def __init__(self, columns = None):\n",
    "        self.columns = columns # array of column names to encode\n",
    "\n",
    "    def fit(self, X, y = None):\n",
    "        return self # not relevant here\n",
    "\n",
    "    def transform(self,X):\n",
    "        '''\n",
    "        Transforms columns of X specified in self.columns using\n",
    "        LabelEncoder(). If no columns specified, transforms all\n",
    "        columns in X.\n",
    "        '''\n",
    "        output = X.copy()\n",
    "        if self.columns is not None:\n",
    "            for col in self.columns:\n",
    "                output[col] = LabelEncoder().fit_transform(output[col])\n",
    "        else:\n",
    "            for colname,col in output.iteritems():\n",
    "                output[colname] = LabelEncoder().fit_transform(col)\n",
    "        return output\n",
    "\n",
    "    def fit_transform(self, X, y = None):\n",
    "        return self.fit(X, y).transform(X)\n",
    "\n",
    "#--------------------------------------------------------------------------------------------------\n",
    "df = pd.read_csv('diabetes_data_upload.csv')\n",
    "train_set, test_set = train_test_split(df, test_size = 0.20, shuffle = True,  random_state = 22)\n",
    "#--------------------------------------------------------------------------------------------------\n",
    "\n",
    "encoding_pipeline = Pipeline([\n",
    "    ('encoding', MultiColumnLabelEncoder(columns=['Polyuria', 'Polydipsia', 'sudden weight loss', 'weakness', \n",
    "                                                 'Polyphagia', 'Genital thrush', 'visual blurring', 'Itching', \n",
    "                                                 'Irritability', 'delayed healing', 'partial paresis', \n",
    "                                                 'muscle stiffness', 'Alopecia', 'Obesity']))\n",
    "    \n",
    "])\n",
    "\n",
    "\n",
    "enc_attribs = ['Polyuria', 'Polydipsia', 'sudden weight loss',\t'weakness',\t\n",
    "               'Polyphagia',\t'Genital thrush',\t'visual blurring',\t'Itching',\t\n",
    "               'Irritability',\t'delayed healing',\t'partial paresis',\t\n",
    "               'muscle stiffness',\t'Alopecia',\t'Obesity']\n",
    "num_attribs = ['Age']\n",
    "cat_attribs = list(train_set[[\"Gender\"]])\n",
    "\n",
    "full_pipeline = ColumnTransformer([                           \n",
    "        (\"num\", StandardScaler(), num_attribs), \n",
    "        (\"cat\", OneHotEncoder(), cat_attribs),  # expanded -> [0, 1]\n",
    "        (\"encoding\", encoding_pipeline, enc_attribs)\n",
    "    ], remainder='passthrough')\n",
    "\n",
    "#--------------------------------------------------------------------------------------------\n",
    "\n",
    "X_train = train_set.drop(\"class\", axis=1) # drop labels for training set\n",
    "y_train = train_set[\"class\"].copy().values # np array\n",
    "X_train_mapped = full_pipeline.fit_transform(X_train) # np array\n",
    "\n",
    "#--------------------------------------------------------------------------------------------\n",
    "\n",
    "# prepare models\n",
    "models = []\n",
    "models.append(('ADA',AdaBoostClassifier()))\n",
    "models.append(('DT', DecisionTreeClassifier()))\n",
    "models.append(('KNN', KNeighborsClassifier()))\n",
    "models.append(('LR', LogisticRegression()))\n",
    "models.append(('NN',MLPClassifier()))\n",
    "models.append(('RF',RandomForestClassifier()))\n",
    "models.append(('SGD',SGDClassifier()))\n",
    "models.append(('SVC',SVC()))\n",
    "\n",
    "#--------------------------------------------------------------------------------------------"
   ]
  },
  {
   "cell_type": "code",
   "execution_count": 3,
   "metadata": {},
   "outputs": [
    {
     "name": "stdout",
     "output_type": "stream",
     "text": [
      "f1_macro: ADA: 0.917009 (0.027296)\n",
      "f1_macro: DT: 0.961234 (0.011840)\n",
      "f1_macro: KNN: 0.919466 (0.039655)\n",
      "f1_macro: LR: 0.938377 (0.019267)\n"
     ]
    },
    {
     "name": "stderr",
     "output_type": "stream",
     "text": [
      "C:\\ProgramData\\Anaconda3\\lib\\site-packages\\sklearn\\neural_network\\_multilayer_perceptron.py:571: ConvergenceWarning: Stochastic Optimizer: Maximum iterations (200) reached and the optimization hasn't converged yet.\n",
      "  % self.max_iter, ConvergenceWarning)\n",
      "C:\\ProgramData\\Anaconda3\\lib\\site-packages\\sklearn\\neural_network\\_multilayer_perceptron.py:571: ConvergenceWarning: Stochastic Optimizer: Maximum iterations (200) reached and the optimization hasn't converged yet.\n",
      "  % self.max_iter, ConvergenceWarning)\n",
      "C:\\ProgramData\\Anaconda3\\lib\\site-packages\\sklearn\\neural_network\\_multilayer_perceptron.py:571: ConvergenceWarning: Stochastic Optimizer: Maximum iterations (200) reached and the optimization hasn't converged yet.\n",
      "  % self.max_iter, ConvergenceWarning)\n",
      "C:\\ProgramData\\Anaconda3\\lib\\site-packages\\sklearn\\neural_network\\_multilayer_perceptron.py:571: ConvergenceWarning: Stochastic Optimizer: Maximum iterations (200) reached and the optimization hasn't converged yet.\n",
      "  % self.max_iter, ConvergenceWarning)\n",
      "C:\\ProgramData\\Anaconda3\\lib\\site-packages\\sklearn\\neural_network\\_multilayer_perceptron.py:571: ConvergenceWarning: Stochastic Optimizer: Maximum iterations (200) reached and the optimization hasn't converged yet.\n",
      "  % self.max_iter, ConvergenceWarning)\n"
     ]
    },
    {
     "name": "stdout",
     "output_type": "stream",
     "text": [
      "f1_macro: NN: 0.951459 (0.010478)\n",
      "f1_macro: RF: 0.971603 (0.005983)\n",
      "f1_macro: SGD: 0.915815 (0.017815)\n",
      "f1_macro: SVC: 0.953970 (0.019169)\n",
      "accuracy: ADA: 0.923121 (0.022152)\n",
      "accuracy: DT: 0.959151 (0.009555)\n",
      "accuracy: KNN: 0.923207 (0.036548)\n",
      "accuracy: LR: 0.942312 (0.017690)\n"
     ]
    },
    {
     "name": "stderr",
     "output_type": "stream",
     "text": [
      "C:\\ProgramData\\Anaconda3\\lib\\site-packages\\sklearn\\neural_network\\_multilayer_perceptron.py:571: ConvergenceWarning: Stochastic Optimizer: Maximum iterations (200) reached and the optimization hasn't converged yet.\n",
      "  % self.max_iter, ConvergenceWarning)\n",
      "C:\\ProgramData\\Anaconda3\\lib\\site-packages\\sklearn\\neural_network\\_multilayer_perceptron.py:571: ConvergenceWarning: Stochastic Optimizer: Maximum iterations (200) reached and the optimization hasn't converged yet.\n",
      "  % self.max_iter, ConvergenceWarning)\n",
      "C:\\ProgramData\\Anaconda3\\lib\\site-packages\\sklearn\\neural_network\\_multilayer_perceptron.py:571: ConvergenceWarning: Stochastic Optimizer: Maximum iterations (200) reached and the optimization hasn't converged yet.\n",
      "  % self.max_iter, ConvergenceWarning)\n",
      "C:\\ProgramData\\Anaconda3\\lib\\site-packages\\sklearn\\neural_network\\_multilayer_perceptron.py:571: ConvergenceWarning: Stochastic Optimizer: Maximum iterations (200) reached and the optimization hasn't converged yet.\n",
      "  % self.max_iter, ConvergenceWarning)\n",
      "C:\\ProgramData\\Anaconda3\\lib\\site-packages\\sklearn\\neural_network\\_multilayer_perceptron.py:571: ConvergenceWarning: Stochastic Optimizer: Maximum iterations (200) reached and the optimization hasn't converged yet.\n",
      "  % self.max_iter, ConvergenceWarning)\n"
     ]
    },
    {
     "name": "stdout",
     "output_type": "stream",
     "text": [
      "accuracy: NN: 0.954360 (0.008788)\n",
      "accuracy: RF: 0.980780 (0.005856)\n",
      "accuracy: SGD: 0.913483 (0.029832)\n",
      "accuracy: SVC: 0.956741 (0.018003)\n"
     ]
    }
   ],
   "source": [
    "results1 = []\n",
    "names = []\n",
    "scoring = 'f1_macro'\n",
    "for name, model in models:\n",
    "    kfold = model_selection.KFold(n_splits=5, shuffle = True, random_state = 321)\n",
    "    cv_results = model_selection.cross_val_score(model, X_train_mapped, y_train, cv=kfold, scoring=scoring)\n",
    "    results1.append(cv_results)\n",
    "    names.append(name)\n",
    "    #print(\"kfold=\", kfold)\n",
    "    msg = \"f1_macro: %s: %f (%f)\" % (name, cv_results.mean(), cv_results.std())\n",
    "    print(msg)\n",
    "\n",
    "results2 = []\n",
    "names = []\n",
    "scoring = 'accuracy'\n",
    "for name, model in models:\n",
    "    kfold = model_selection.KFold(n_splits=5, shuffle = True, random_state = 321)\n",
    "    cv_results = model_selection.cross_val_score(model, X_train_mapped, y_train, cv=kfold, scoring=scoring)\n",
    "    results2.append(cv_results)\n",
    "    names.append(name)\n",
    "    #print(\"kfold=\", kfold)\n",
    "    msg = \"accuracy: %s: %f (%f)\" % (name, cv_results.mean(), cv_results.std())\n",
    "    print(msg)\n",
    "\n"
   ]
  },
  {
   "cell_type": "code",
   "execution_count": 4,
   "metadata": {},
   "outputs": [
    {
     "data": {
      "image/png": "[encoded data removed]",
      "text/plain": [
       "<Figure size 432x288 with 2 Axes>"
      ]
     },
     "metadata": {
      "needs_background": "light"
     },
     "output_type": "display_data"
    }
   ],
   "source": [
    "# boxplot algorithm comparison\n",
    "fig = plt.figure()\n",
    "ax = fig.add_subplot(121)\n",
    "fig.suptitle('compare')\n",
    "plt.boxplot(results1)\n",
    "ax.set_xticklabels(names)\n",
    "ax.set_title(\"f1 score\")\n",
    "\n",
    "ax = fig.add_subplot(122)\n",
    "plt.boxplot(results2)\n",
    "ax.set_xticklabels(names)\n",
    "ax.set_title(\"accuracy score\")\n",
    "plt.show()"
   ]
  },
  {
   "cell_type": "code",
   "execution_count": 5,
   "metadata": {},
   "outputs": [],
   "source": [
    "clf_saved_models = []\n",
    "def fit_model (use_algorithm_name, use_algorithm, XX_train, yy_train):\n",
    "    parameters = \"\"\n",
    "    if use_algorithm_name =='LR':\n",
    "        clf__penalty_param= ['l1', 'l2']\n",
    "        clf__C_param= [0.001, 0.01, 0.1, 1, 10, 100, 1000] \n",
    "        clf_fit_intercept=[True, False] \n",
    "        parameters = {'C':clf__C_param, 'penalty':clf__penalty_param,'fit_intercept':clf_fit_intercept} \n",
    "    elif use_algorithm_name == 'ADA':\n",
    "        clf_learning_rate=[0.1, 0.5, 1.0, 10.0]\n",
    "        clf_n_estimators=[10, 50]\n",
    "        parameters = {'learning_rate': clf_learning_rate, 'n_estimators': clf_n_estimators}\n",
    "    elif use_algorithm_name =='RF':\n",
    "        n_estimators_values = [50, 100, 200, 300, 400]\n",
    "        #min_impurity_decrease_values = [0., 0.005, 0.00025]\n",
    "        #max_features_params = [0.1, 0.25, 0.5, 0.75, 'sqrt', 'log2', None]\n",
    "        criterion_params = ['gini', 'entropy']\n",
    "        #parameters = {'criterion': criterion_params, 'max_features': max_features_params,'n_estimators': n_estimators_values}\n",
    "        parameters = {'criterion': criterion_params, 'n_estimators': n_estimators_values}\n",
    "    elif use_algorithm_name == 'DT':\n",
    "        criterion_params = ['gini','entropy']\n",
    "        max_features_params = ['auto','sqrt','log2'] \n",
    "        parameters = {'criterion': criterion_params, 'max_features': max_features_params}\n",
    "    elif use_algorithm_name=='NN':\n",
    "        learning_rate=['constant', 'invscaling', 'adaptive']\n",
    "        activation = ['identity', 'logistic', 'tanh', 'relu']\n",
    "        learningrate_params = [0.01, 0.05, 0.1, 0.5, 1.0] \n",
    "        parameters = {'learning_rate': learning_rate, 'activation': activation, 'learning_rate_init': learningrate_params}\n",
    "    elif use_algorithm_name=='SGD':\n",
    "        fit_intercept=[True, False]\n",
    "        l1_ratio=[0, 0.15, 1.0]\n",
    "        loss_params=['log','modified_huber']\n",
    "        parameters = {'fit_intercept': fit_intercept, 'l1_ratio': l1_ratio, 'loss': loss_params}\n",
    "    elif use_algorithm_name=='SVC':\n",
    "        kernel=['linear', 'sigmoid', 'rbf']\n",
    "        parameters = {'kernel':kernel}\n",
    "    elif use_algorithm_name=='KNN':\n",
    "        metric_params = ['minkowski','euclidean','manhattan'] \n",
    "        weights_params = ['uniform','distance'] \n",
    "        numNeighbors_params  = [5, 6, 7, 8, 9]\n",
    "        parameters = {'metric': metric_params, 'weights': weights_params, 'n_neighbors': numNeighbors_params}\n",
    "        \n",
    "    if type(parameters) != str:\n",
    "        model = GridSearchCV(use_algorithm, parameters, cv=5).fit(XX_train, yy_train)\n",
    "        clf_saved_models.append(model)\n",
    "        print(model)\n",
    "        \n"
   ]
  },
  {
   "cell_type": "code",
   "execution_count": 6,
   "metadata": {},
   "outputs": [
    {
     "name": "stdout",
     "output_type": "stream",
     "text": [
      "GridSearchCV(cv=5, error_score=nan,\n",
      "             estimator=RandomForestClassifier(bootstrap=True, ccp_alpha=0.0,\n",
      "                                              class_weight=None,\n",
      "                                              criterion='gini', max_depth=None,\n",
      "                                              max_features='auto',\n",
      "                                              max_leaf_nodes=None,\n",
      "                                              max_samples=None,\n",
      "                                              min_impurity_decrease=0.0,\n",
      "                                              min_impurity_split=None,\n",
      "                                              min_samples_leaf=1,\n",
      "                                              min_samples_split=2,\n",
      "                                              min_weight_fraction_leaf=0.0,\n",
      "                                              n_estimators=100, n_jobs=None,\n",
      "                                              oob_score=False,\n",
      "                                              random_state=None, verbose=0,\n",
      "                                              warm_start=False),\n",
      "             iid='deprecated', n_jobs=None,\n",
      "             param_grid={'criterion': ['gini', 'entropy'],\n",
      "                         'max_features': [0.1, 0.25, 0.5, 0.75, 'sqrt', 'log2',\n",
      "                                          None],\n",
      "                         'n_estimators': [10, 50, 100, 500]},\n",
      "             pre_dispatch='2*n_jobs', refit=True, return_train_score=False,\n",
      "             scoring=None, verbose=0)\n",
      "GridSearchCV(cv=5, error_score=nan,\n",
      "             estimator=SVC(C=1.0, break_ties=False, cache_size=200,\n",
      "                           class_weight=None, coef0=0.0,\n",
      "                           decision_function_shape='ovr', degree=3,\n",
      "                           gamma='scale', kernel='rbf', max_iter=-1,\n",
      "                           probability=False, random_state=None, shrinking=True,\n",
      "                           tol=0.001, verbose=False),\n",
      "             iid='deprecated', n_jobs=None,\n",
      "             param_grid={'kernel': ['linear', 'sigmoid', 'rbf']},\n",
      "             pre_dispatch='2*n_jobs', refit=True, return_train_score=False,\n",
      "             scoring=None, verbose=0)\n"
     ]
    }
   ],
   "source": [
    "#fit_model('ADA', AdaBoostClassifier(), X_train_mapped, y_train)\n",
    "#fit_model('DT', DecisionTreeClassifier(), X_train_mapped, y_train)\n",
    "#fit_model('KNN', KNeighborsClassifier(), X_train_mapped, y_train)\n",
    "#fit_model('LR', LogisticRegression(), X_train_mapped, y_train)\n",
    "#fit_model('NN', MLPClassifier(), X_train_mapped, y_train)\n",
    "fit_model('RF', RandomForestClassifier(), X_train_mapped, y_train)\n",
    "#fit_model('SGD', SGDClassifier(), X_train_mapped, y_train)\n",
    "fit_model('SVC', SVC(probability=False), X_train_mapped, y_train)"
   ]
  },
  {
   "cell_type": "code",
   "execution_count": 7,
   "metadata": {},
   "outputs": [
    {
     "data": {
      "text/plain": [
       "[GridSearchCV(cv=5, error_score=nan,\n",
       "              estimator=RandomForestClassifier(bootstrap=True, ccp_alpha=0.0,\n",
       "                                               class_weight=None,\n",
       "                                               criterion='gini', max_depth=None,\n",
       "                                               max_features='auto',\n",
       "                                               max_leaf_nodes=None,\n",
       "                                               max_samples=None,\n",
       "                                               min_impurity_decrease=0.0,\n",
       "                                               min_impurity_split=None,\n",
       "                                               min_samples_leaf=1,\n",
       "                                               min_samples_split=2,\n",
       "                                               min_weight_fraction_leaf=0.0,\n",
       "                                               n_estimators=100, n_jobs=None,\n",
       "                                               oob_score=False,\n",
       "                                               random_state=None, verbose=0,\n",
       "                                               warm_start=False),\n",
       "              iid='deprecated', n_jobs=None,\n",
       "              param_grid={'criterion': ['gini', 'entropy'],\n",
       "                          'max_features': [0.1, 0.25, 0.5, 0.75, 'sqrt', 'log2',\n",
       "                                           None],\n",
       "                          'n_estimators': [10, 50, 100, 500]},\n",
       "              pre_dispatch='2*n_jobs', refit=True, return_train_score=False,\n",
       "              scoring=None, verbose=0),\n",
       " GridSearchCV(cv=5, error_score=nan,\n",
       "              estimator=SVC(C=1.0, break_ties=False, cache_size=200,\n",
       "                            class_weight=None, coef0=0.0,\n",
       "                            decision_function_shape='ovr', degree=3,\n",
       "                            gamma='scale', kernel='rbf', max_iter=-1,\n",
       "                            probability=False, random_state=None, shrinking=True,\n",
       "                            tol=0.001, verbose=False),\n",
       "              iid='deprecated', n_jobs=None,\n",
       "              param_grid={'kernel': ['linear', 'sigmoid', 'rbf']},\n",
       "              pre_dispatch='2*n_jobs', refit=True, return_train_score=False,\n",
       "              scoring=None, verbose=0)]"
      ]
     },
     "execution_count": 7,
     "metadata": {},
     "output_type": "execute_result"
    }
   ],
   "source": [
    "clf_saved_models"
   ]
  },
  {
   "cell_type": "code",
   "execution_count": 8,
   "metadata": {},
   "outputs": [
    {
     "data": {
      "text/plain": [
       "1.0"
      ]
     },
     "execution_count": 8,
     "metadata": {},
     "output_type": "execute_result"
    }
   ],
   "source": [
    "from sklearn.metrics import accuracy_score\n",
    "from sklearn.metrics import confusion_matrix\n",
    "\n",
    "clf = clf_saved_models[0]  # 'RF'\n",
    "y_train_predict = clf.predict(X_train_mapped)\n",
    "accuracy_score(y_train, y_train_predict)"
   ]
  },
  {
   "cell_type": "code",
   "execution_count": 9,
   "metadata": {},
   "outputs": [
    {
     "name": "stdout",
     "output_type": "stream",
     "text": [
      "[[162   0]\n",
      " [  0 254]]\n"
     ]
    },
    {
     "data": {
      "image/png": "[encoded data removed]",
      "text/plain": [
       "<Figure size 432x288 with 2 Axes>"
      ]
     },
     "metadata": {
      "needs_background": "light"
     },
     "output_type": "display_data"
    }
   ],
   "source": [
    "cm = confusion_matrix(y_train, y_train_predict)\n",
    "print(cm)\n",
    "fig = plt.figure()\n",
    "ax = fig.add_subplot(111)\n",
    "cax = ax.matshow(cm)\n",
    "plt.title('Confusion Matrix for clf-RF')\n",
    "fig.colorbar(cax)\n",
    "plt.xlabel('Predicted')\n",
    "plt.ylabel('Actual')\n",
    "plt.show()"
   ]
  },
  {
   "cell_type": "code",
   "execution_count": 10,
   "metadata": {},
   "outputs": [
    {
     "data": {
      "text/plain": [
       "0.9831730769230769"
      ]
     },
     "execution_count": 10,
     "metadata": {},
     "output_type": "execute_result"
    }
   ],
   "source": [
    "clf = clf_saved_models[1]  # 'SVC'\n",
    "y_train_predict = clf.predict(X_train_mapped)\n",
    "accuracy_score(y_train, y_train_predict)"
   ]
  },
  {
   "cell_type": "code",
   "execution_count": 11,
   "metadata": {},
   "outputs": [
    {
     "name": "stdout",
     "output_type": "stream",
     "text": [
      "[[157   5]\n",
      " [  2 252]]\n"
     ]
    },
    {
     "data": {
      "image/png": "[encoded data removed]",
      "text/plain": [
       "<Figure size 432x288 with 2 Axes>"
      ]
     },
     "metadata": {
      "needs_background": "light"
     },
     "output_type": "display_data"
    }
   ],
   "source": [
    "cm = confusion_matrix(y_train, y_train_predict)\n",
    "print(cm)\n",
    "fig = plt.figure()\n",
    "ax = fig.add_subplot(111)\n",
    "cax = ax.matshow(cm)\n",
    "plt.title('Confusion Matrix for clf-SVC')\n",
    "fig.colorbar(cax)\n",
    "plt.xlabel('Predicted')\n",
    "plt.ylabel('Actual')\n",
    "plt.show()"
   ]
  },
  {
   "cell_type": "code",
   "execution_count": 12,
   "metadata": {},
   "outputs": [
    {
     "data": {
      "text/plain": [
       "0.9807692307692307"
      ]
     },
     "execution_count": 12,
     "metadata": {},
     "output_type": "execute_result"
    }
   ],
   "source": [
    "X_test = test_set.drop(\"class\", axis=1) # drop labels for testing set\n",
    "y_test = test_set[\"class\"].copy().values\n",
    "full_pipeline = ColumnTransformer([                           \n",
    "        (\"num\", StandardScaler(), num_attribs),\n",
    "        (\"cat\", OneHotEncoder(), cat_attribs),\n",
    "        (\"encoding\", encoding_pipeline, enc_attribs)\n",
    "    ], remainder='passthrough')\n",
    "\n",
    "clf = clf_saved_models[0]  # 'RF'\n",
    "X_test_mapped = full_pipeline.fit_transform(X_test)\n",
    "y_test_predict = clf.predict(X_test_mapped)\n",
    "accuracy_score(y_test, y_test_predict)"
   ]
  },
  {
   "cell_type": "code",
   "execution_count": 13,
   "metadata": {},
   "outputs": [
    {
     "name": "stdout",
     "output_type": "stream",
     "text": [
      "[[37  1]\n",
      " [ 1 65]]\n"
     ]
    },
    {
     "data": {
      "image/png": "[encoded data removed]",
      "text/plain": [
       "<Figure size 432x288 with 2 Axes>"
      ]
     },
     "metadata": {
      "needs_background": "light"
     },
     "output_type": "display_data"
    }
   ],
   "source": [
    "cm = confusion_matrix(y_test, y_test_predict)\n",
    "print(cm)\n",
    "fig = plt.figure()\n",
    "ax = fig.add_subplot(111)\n",
    "cax = ax.matshow(cm)\n",
    "plt.title('Confusion Matrix for clf-RF')\n",
    "fig.colorbar(cax)\n",
    "plt.xlabel('Predicted')\n",
    "plt.ylabel('Actual')\n",
    "plt.show()"
   ]
  },
  {
   "cell_type": "code",
   "execution_count": 14,
   "metadata": {},
   "outputs": [
    {
     "data": {
      "text/plain": [
       "0.9519230769230769"
      ]
     },
     "execution_count": 14,
     "metadata": {},
     "output_type": "execute_result"
    }
   ],
   "source": [
    "clf = clf_saved_models[1]  # 'SVC'\n",
    "X_test_mapped = full_pipeline.fit_transform(X_test)\n",
    "y_test_predict = clf.predict(X_test_mapped)\n",
    "accuracy_score(y_test, y_test_predict)"
   ]
  },
  {
   "cell_type": "code",
   "execution_count": 15,
   "metadata": {},
   "outputs": [
    {
     "name": "stdout",
     "output_type": "stream",
     "text": [
      "[[36  2]\n",
      " [ 3 63]]\n"
     ]
    },
    {
     "data": {
      "image/png": "[encoded data removed]",
      "text/plain": [
       "<Figure size 432x288 with 2 Axes>"
      ]
     },
     "metadata": {
      "needs_background": "light"
     },
     "output_type": "display_data"
    }
   ],
   "source": [
    "cm = confusion_matrix(y_test, y_test_predict)\n",
    "print(cm)\n",
    "fig = plt.figure()\n",
    "ax = fig.add_subplot(111)\n",
    "cax = ax.matshow(cm)\n",
    "plt.title('Confusion Matrix for clf-SVC')\n",
    "fig.colorbar(cax)\n",
    "plt.xlabel('Predicted')\n",
    "plt.ylabel('Actual')\n",
    "plt.show()"
   ]
  },
  {
   "cell_type": "code",
   "execution_count": 16,
   "metadata": {},
   "outputs": [],
   "source": [
    "import pickle\n",
    "filename_model_RF = \"model_RF.pkl\"\n",
    "pickle.dump(clf_saved_models[0].best_estimator_, open(filename_model_RF, 'wb'), protocol = 4)"
   ]
  },
  {
   "cell_type": "code",
   "execution_count": 17,
   "metadata": {},
   "outputs": [],
   "source": [
    "filename_model_SVC = \"model_SVC.pkl\"\n",
    "pickle.dump(clf_saved_models[1].best_estimator_, open(filename_model_SVC, 'wb'), protocol = 4)"
   ]
  },
  {
   "cell_type": "code",
   "execution_count": 18,
   "metadata": {},
   "outputs": [],
   "source": [
    "model_RF = pickle.load(open(filename_model_RF, 'rb'))"
   ]
  },
  {
   "cell_type": "code",
   "execution_count": 19,
   "metadata": {},
   "outputs": [],
   "source": [
    "model_SVC = pickle.load(open(filename_model_SVC, 'rb'))"
   ]
  },
  {
   "cell_type": "code",
   "execution_count": 20,
   "metadata": {},
   "outputs": [
    {
     "data": {
      "text/plain": [
       "0.9807692307692307"
      ]
     },
     "execution_count": 20,
     "metadata": {},
     "output_type": "execute_result"
    }
   ],
   "source": [
    "clf = model_RF  # 'RF'\n",
    "X_test_mapped = full_pipeline.fit_transform(X_test)\n",
    "y_test_predict = clf.predict(X_test_mapped)\n",
    "accuracy_score(y_test, y_test_predict)"
   ]
  },
  {
   "cell_type": "code",
   "execution_count": 21,
   "metadata": {},
   "outputs": [
    {
     "name": "stdout",
     "output_type": "stream",
     "text": [
      "[[37  1]\n",
      " [ 1 65]]\n"
     ]
    },
    {
     "data": {
      "image/png": "[encoded data removed]",
      "text/plain": [
       "<Figure size 432x288 with 2 Axes>"
      ]
     },
     "metadata": {
      "needs_background": "light"
     },
     "output_type": "display_data"
    }
   ],
   "source": [
    "cm = confusion_matrix(y_test, y_test_predict)\n",
    "print(cm)\n",
    "fig = plt.figure()\n",
    "ax = fig.add_subplot(111)\n",
    "cax = ax.matshow(cm)\n",
    "plt.title('Confusion Matrix for clf-RF')\n",
    "fig.colorbar(cax)\n",
    "plt.xlabel('Predicted')\n",
    "plt.ylabel('Actual')\n",
    "plt.show()"
   ]
  },
  {
   "cell_type": "code",
   "execution_count": 26,
   "metadata": {},
   "outputs": [
    {
     "data": {
      "text/plain": [
       "array(['Positive', 'Positive', 'Positive', 'Positive', 'Negative',\n",
       "       'Positive', 'Negative', 'Negative', 'Positive', 'Negative'],\n",
       "      dtype=object)"
      ]
     },
     "execution_count": 26,
     "metadata": {},
     "output_type": "execute_result"
    }
   ],
   "source": [
    "clf = model_RF  # 'RF'\n",
    "X_test_mapped = full_pipeline.fit_transform(X_test)\n",
    "y_test_predict = clf.predict(X_test_mapped[0:10, :])\n",
    "y_test_predict"
   ]
  },
  {
   "cell_type": "code",
   "execution_count": 27,
   "metadata": {},
   "outputs": [
    {
     "name": "stdout",
     "output_type": "stream",
     "text": [
      "[[0.   1.  ]\n",
      " [0.07 0.93]\n",
      " [0.1  0.9 ]\n",
      " [0.04 0.96]\n",
      " [1.   0.  ]\n",
      " [0.44 0.56]\n",
      " [0.95 0.05]\n",
      " [0.51 0.49]\n",
      " [0.01 0.99]\n",
      " [0.99 0.01]]\n"
     ]
    }
   ],
   "source": [
    "y_test_predict = clf.predict_proba(X_test_mapped[0:10, :])\n",
    "print(y_test_predict)"
   ]
  },
  {
   "cell_type": "code",
   "execution_count": 30,
   "metadata": {},
   "outputs": [],
   "source": [
    "clf = model_RF  # 'RF'\n"
   ]
  },
  {
   "cell_type": "code",
   "execution_count": 31,
   "metadata": {},
   "outputs": [],
   "source": [
    "import m2cgen as m2c  # if m2cgen is installed, then enable following cells\n",
    "\n",
    "\n",
    "pcode = m2c.export_to_python(clf)\n",
    "jcode = m2c.export_to_java(clf)\n",
    "ccode = m2c.export_to_c(clf)\n",
    "\n",
    "file = open(\"m2cgen_clf_rf.py\", \"w\") \n",
    "file.write(pcode) \n",
    "file.close() \n",
    "\n",
    "file = open(\"m2cgen_clf_rf.java\", \"w\") \n",
    "file.write(jcode) \n",
    "file.close() \n",
    "\n",
    "file = open(\"m2cgen_clf_rf.c\", \"w\") \n",
    "file.write(ccode) \n",
    "file.close() \n"
   ]
  },
  {
   "cell_type": "code",
   "execution_count": 32,
   "metadata": {},
   "outputs": [
    {
     "name": "stdout",
     "output_type": "stream",
     "text": [
      "test results from generated python code:\n",
      "[[0.0, 1.0], [0.07, 0.93], [0.1, 0.9], [0.04, 0.96], [1.0, 0.0], [0.44, 0.56], [0.9500000000000001, 0.05], [0.51, 0.49], [0.01, 0.99], [0.99, 0.01]]\n"
     ]
    }
   ],
   "source": [
    "\n",
    "from m2cgen_clf_rf import score\n",
    "print(\"test results from generated python code:\")\n",
    "y_test_predict = []\n",
    "i = 0\n",
    "for i in range(0, 10):\n",
    "    sample = X_test_mapped[i]\n",
    "    y = score(sample)\n",
    "    y_test_predict.append(y)\n",
    "\n",
    "print(y_test_predict)\n"
   ]
  },
  {
   "cell_type": "code",
   "execution_count": null,
   "metadata": {},
   "outputs": [],
   "source": []
  }
 ],
 "metadata": {
  "kernelspec": {
   "display_name": "Python 3",
   "language": "python",
   "name": "python3"
  },
  "language_info": {
   "codemirror_mode": {
    "name": "ipython",
    "version": 3
   },
   "file_extension": ".py",
   "mimetype": "text/x-python",
   "name": "python",
   "nbconvert_exporter": "python",
   "pygments_lexer": "ipython3",
   "version": "3.7.6"
  }
 },
 "nbformat": 4,
 "nbformat_minor": 1
}
